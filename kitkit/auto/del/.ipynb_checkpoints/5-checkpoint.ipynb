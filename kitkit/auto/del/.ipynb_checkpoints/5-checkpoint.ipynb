{
 "cells": [
  {
   "cell_type": "code",
   "execution_count": 3,
   "metadata": {
    "collapsed": true
   },
   "outputs": [],
   "source": [
    "from pymongo import MongoClient\n",
    "import pymongo\n",
    "from tqdm import tqdm\n",
    "class Report():\n",
    "    def __init__(self, db_host, db_port, db_name):\n",
    "        self.config = Munch()\n",
    "        self.config.db_host = db_host\n",
    "        self.config.db_port = db_port\n",
    "        self.config.db_name = db_name\n",
    "        \n",
    "    def connect_mongodb(self):\n",
    "        try:\n",
    "            client = MongoClient(self.config.db_host, self.config.db_port)\n",
    "            db = client[self.config.db_name]\n",
    "        except Exception, e:\n",
    "            print e, 'Connect to mongodb error'\n",
    "        return db\n",
    "    \n",
    "    def run(self):\n",
    "        for i in [5]:\n",
    "            cursor = db['layer%s' %i].find({\"IS_backtest\": \"Done\"})\n",
    "            print 'layer%s IS backtest num: %s' %(i, cursor.count())\n",
    "            IS, OOS1, OOS2 = {}, {}, {}\n",
    "            for j in tqdm(cursor, desc='%s' %cursor.count()):\n",
    "                if 'IS_alpha_sharpe' in j:\n",
    "                    IS.update({j['expr']:j['IS_alpha_sharpe']})\n",
    "                if 'OOS1_alpha_sharpe' in j:\n",
    "                    OOS1.update({j['expr']:j['OOS1_alpha_sharpe']})          \n",
    "                if 'OOS2_alpha_sharpe' in j:\n",
    "                    OOS2.update({j['expr']:j['OOS2_alpha_sharpe']})\n",
    "            print len(np.unique(IS.keys()))\n",
    "        for j in ['IS', 'OOS1', 'OOS2']:\n",
    "            for k in [0.5, 1., 1.5, 2]:\n",
    "                if j == 'IS':\n",
    "                    print '%s>%s %s' %(j, k, np.nansum(np.array(getattr(IS, 'values')())>k))  \n",
    "                if j == 'OOS1':\n",
    "                    print '%s>%s %s' %(j, k, np.nansum(np.array(getattr(OOS1, 'values')())>k))\n",
    "                if j == 'OOS2':\n",
    "                    print '%s>%s %s' %(j, k, np.nansum(np.array(getattr(OOS2, 'values')())>k))\n",
    "        return IS, OOS1, OOS2\n",
    "#         for i in [1,2,3,4,5]:\n",
    "#             print db['layer%s' %i].find({\"IS_backtest\": \"Done\", \"OOS1_backtest\": \"Done\", \"OOS2_backtest\": \"Undo\",\\\n",
    "#                                                  'IS_alpha_sharpe':{'$gt':0.5}, 'OOS1_alpha_sharpe':{'$gt':0.5}})\\\n",
    "#                                                 .sort(\"OOS1_alpha_sharpe\", pymongo.DESCENDING).count()"
   ]
  },
  {
   "cell_type": "code",
   "execution_count": 4,
   "metadata": {},
   "outputs": [
    {
     "name": "stdout",
     "output_type": "stream",
     "text": [
      "layer5 IS backtest num: 4450000\n"
     ]
    },
    {
     "name": "stderr",
     "output_type": "stream",
     "text": [
      "4450000: 4450000it [02:50, 26152.11it/s]\n",
      "/usr/anaconda2/lib/python2.7/site-packages/ipykernel_launcher.py:34: RuntimeWarning: invalid value encountered in greater\n"
     ]
    },
    {
     "name": "stdout",
     "output_type": "stream",
     "text": [
      "IS>0.5 421255\n",
      "IS>1.0 115128\n",
      "IS>1.5 16501\n",
      "IS>2 1008\n",
      "OOS1>0.5 19307\n",
      "OOS1>1.0 7449\n",
      "OOS1>1.5 2484\n",
      "OOS1>2 693\n",
      "OOS2>0.5 0\n",
      "OOS2>1.0 0\n",
      "OOS2>1.5 0\n",
      "OOS2>2 0\n"
     ]
    },
    {
     "name": "stderr",
     "output_type": "stream",
     "text": [
      "/usr/anaconda2/lib/python2.7/site-packages/ipykernel_launcher.py:36: RuntimeWarning: invalid value encountered in greater\n"
     ]
    },
    {
     "ename": "NameError",
     "evalue": "global name 'a' is not defined",
     "output_type": "error",
     "traceback": [
      "\u001b[0;31m---------------------------------------------------------------------------\u001b[0m",
      "\u001b[0;31mNameError\u001b[0m                                 Traceback (most recent call last)",
      "\u001b[0;32m<ipython-input-4-d1e2f49cec18>\u001b[0m in \u001b[0;36m<module>\u001b[0;34m()\u001b[0m\n\u001b[1;32m      1\u001b[0m \u001b[0mr\u001b[0m \u001b[0;34m=\u001b[0m \u001b[0mReport\u001b[0m\u001b[0;34m(\u001b[0m\u001b[0mdb_host\u001b[0m\u001b[0;34m=\u001b[0m\u001b[0;34m'127.0.0.1'\u001b[0m\u001b[0;34m,\u001b[0m \u001b[0mdb_port\u001b[0m\u001b[0;34m=\u001b[0m\u001b[0;36m27017\u001b[0m\u001b[0;34m,\u001b[0m \u001b[0mdb_name\u001b[0m\u001b[0;34m=\u001b[0m\u001b[0;34m'Machine'\u001b[0m\u001b[0;34m)\u001b[0m\u001b[0;34m\u001b[0m\u001b[0m\n\u001b[1;32m      2\u001b[0m \u001b[0mdb\u001b[0m \u001b[0;34m=\u001b[0m \u001b[0mr\u001b[0m\u001b[0;34m.\u001b[0m\u001b[0mconnect_mongodb\u001b[0m\u001b[0;34m(\u001b[0m\u001b[0;34m)\u001b[0m\u001b[0;34m\u001b[0m\u001b[0m\n\u001b[0;32m----> 3\u001b[0;31m \u001b[0ma\u001b[0m \u001b[0;34m=\u001b[0m \u001b[0mr\u001b[0m\u001b[0;34m.\u001b[0m\u001b[0mrun\u001b[0m\u001b[0;34m(\u001b[0m\u001b[0;34m)\u001b[0m\u001b[0;34m\u001b[0m\u001b[0m\n\u001b[0m",
      "\u001b[0;32m<ipython-input-3-4f0695f2b50e>\u001b[0m in \u001b[0;36mrun\u001b[0;34m(self)\u001b[0m\n\u001b[1;32m     37\u001b[0m                 \u001b[0;32mif\u001b[0m \u001b[0mj\u001b[0m \u001b[0;34m==\u001b[0m \u001b[0;34m'OOS2'\u001b[0m\u001b[0;34m:\u001b[0m\u001b[0;34m\u001b[0m\u001b[0m\n\u001b[1;32m     38\u001b[0m                     \u001b[0;32mprint\u001b[0m \u001b[0;34m'%s>%s %s'\u001b[0m \u001b[0;34m%\u001b[0m\u001b[0;34m(\u001b[0m\u001b[0mj\u001b[0m\u001b[0;34m,\u001b[0m \u001b[0mk\u001b[0m\u001b[0;34m,\u001b[0m \u001b[0mnp\u001b[0m\u001b[0;34m.\u001b[0m\u001b[0mnansum\u001b[0m\u001b[0;34m(\u001b[0m\u001b[0mnp\u001b[0m\u001b[0;34m.\u001b[0m\u001b[0marray\u001b[0m\u001b[0;34m(\u001b[0m\u001b[0mgetattr\u001b[0m\u001b[0;34m(\u001b[0m\u001b[0mOOS2\u001b[0m\u001b[0;34m,\u001b[0m \u001b[0;34m'values'\u001b[0m\u001b[0;34m)\u001b[0m\u001b[0;34m(\u001b[0m\u001b[0;34m)\u001b[0m\u001b[0;34m)\u001b[0m\u001b[0;34m>\u001b[0m\u001b[0mk\u001b[0m\u001b[0;34m)\u001b[0m\u001b[0;34m)\u001b[0m\u001b[0;34m\u001b[0m\u001b[0m\n\u001b[0;32m---> 39\u001b[0;31m         \u001b[0;32mreturn\u001b[0m \u001b[0ma\u001b[0m\u001b[0;34m\u001b[0m\u001b[0m\n\u001b[0m\u001b[1;32m     40\u001b[0m \u001b[0;31m#         for i in [1,2,3,4,5]:\u001b[0m\u001b[0;34m\u001b[0m\u001b[0;34m\u001b[0m\u001b[0m\n\u001b[1;32m     41\u001b[0m \u001b[0;31m#             print db['layer%s' %i].find({\"IS_backtest\": \"Done\", \"OOS1_backtest\": \"Done\", \"OOS2_backtest\": \"Undo\",\\\u001b[0m\u001b[0;34m\u001b[0m\u001b[0;34m\u001b[0m\u001b[0m\n",
      "\u001b[0;31mNameError\u001b[0m: global name 'a' is not defined"
     ]
    }
   ],
   "source": [
    "r = Report(db_host='127.0.0.1', db_port=27017, db_name='Machine')\n",
    "db = r.connect_mongodb()\n",
    "a = r.run()"
   ]
  },
  {
   "cell_type": "code",
   "execution_count": null,
   "metadata": {
    "collapsed": true
   },
   "outputs": [],
   "source": []
  }
 ],
 "metadata": {
  "kernelspec": {
   "display_name": "Python 2",
   "language": "python",
   "name": "python2"
  },
  "language_info": {
   "codemirror_mode": {
    "name": "ipython",
    "version": 2
   },
   "file_extension": ".py",
   "mimetype": "text/x-python",
   "name": "python",
   "nbconvert_exporter": "python",
   "pygments_lexer": "ipython2",
   "version": "2.7.14"
  }
 },
 "nbformat": 4,
 "nbformat_minor": 2
}
