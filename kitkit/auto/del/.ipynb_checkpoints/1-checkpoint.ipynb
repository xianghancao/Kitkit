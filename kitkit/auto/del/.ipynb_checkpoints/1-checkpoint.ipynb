{
 "cells": [
  {
   "cell_type": "code",
   "execution_count": 21,
   "metadata": {
    "collapsed": true
   },
   "outputs": [],
   "source": [
    "from pymongo import MongoClient\n",
    "import pymongo\n",
    "from tqdm import tqdm\n",
    "class Report():\n",
    "    def __init__(self, db_host, db_port, db_name):\n",
    "        self.config = Munch()\n",
    "        self.config.db_host = db_host\n",
    "        self.config.db_port = db_port\n",
    "        self.config.db_name = db_name\n",
    "        \n",
    "    def connect_mongodb(self):\n",
    "        try:\n",
    "            client = MongoClient(self.config.db_host, self.config.db_port)\n",
    "            db = client[self.config.db_name]\n",
    "        except Exception, e:\n",
    "            print e, 'Connect to mongodb error'\n",
    "        return db\n",
    "    \n",
    "    def run(self):\n",
    "        for i in [1]:\n",
    "            cursor = db['layer%s' %i].find({\"IS_backtest\": \"Done\"})\n",
    "            print 'layer%s IS backtest num: %s' %(i, cursor.count())\n",
    "            IS, OOS1, OOS2 = {}, {}, {}\n",
    "            for j in tqdm(cursor, desc='%s' %cursor.count()):\n",
    "                if 'IS_alpha_sharpe' in j:\n",
    "                    IS.update({j['expr']:j['IS_alpha_sharpe']})\n",
    "                if 'OOS1_alpha_sharpe' in j:\n",
    "                    OOS1.update({j['expr']:j['OOS1_alpha_sharpe']})          \n",
    "                if 'OOS2_alpha_sharpe' in j:\n",
    "                    OOS2.update({j['expr']:j['OOS2_alpha_sharpe']})\n",
    "            print len(np.unique(IS.keys()))\n",
    "        for j in ['IS', 'OOS1', 'OOS2']:\n",
    "            for k in [0.5, 1., 1.5, 2]:\n",
    "                if j == 'IS':\n",
    "                    print '%s>%s %s' %(j, k, np.nansum(np.array(getattr(IS, 'values')())>k))  \n",
    "                if j == 'OOS1':\n",
    "                    print '%s>%s %s' %(j, k, np.nansum(np.array(getattr(OOS1, 'values')())>k))\n",
    "                if j == 'OOS2':\n",
    "                    print '%s>%s %s' %(j, k, np.nansum(np.array(getattr(OOS2, 'values')())>k))\n",
    "        return IS, OOS1, OOS2\n",
    "#         for i in [1,2,3,4,5]:\n",
    "#             print db['layer%s' %i].find({\"IS_backtest\": \"Done\", \"OOS1_backtest\": \"Done\", \"OOS2_backtest\": \"Undo\",\\\n",
    "#                                                  'IS_alpha_sharpe':{'$gt':0.5}, 'OOS1_alpha_sharpe':{'$gt':0.5}})\\\n",
    "#                                                 .sort(\"OOS1_alpha_sharpe\", pymongo.DESCENDING).count()"
   ]
  },
  {
   "cell_type": "code",
   "execution_count": 22,
   "metadata": {},
   "outputs": [
    {
     "name": "stdout",
     "output_type": "stream",
     "text": [
      "layer1 IS backtest num: 2000000\n"
     ]
    },
    {
     "name": "stderr",
     "output_type": "stream",
     "text": [
      "2000000: 2000000it [01:29, 22393.30it/s]"
     ]
    },
    {
     "name": "stdout",
     "output_type": "stream",
     "text": [
      "IS>0.5 1652\n",
      "IS>1.0 492\n",
      "IS>1.5 59\n",
      "IS>2 4\n",
      "OOS1>0.5 420\n",
      "OOS1>1.0 121\n",
      "OOS1>1.5 42\n",
      "OOS1>2 9\n",
      "OOS2>0.5 138\n",
      "OOS2>1.0 69\n",
      "OOS2>1.5 23\n",
      "OOS2>2 4\n"
     ]
    },
    {
     "name": "stderr",
     "output_type": "stream",
     "text": [
      "\n",
      "/usr/anaconda2/lib/python2.7/site-packages/ipykernel_launcher.py:34: RuntimeWarning: invalid value encountered in greater\n",
      "/usr/anaconda2/lib/python2.7/site-packages/ipykernel_launcher.py:36: RuntimeWarning: invalid value encountered in greater\n"
     ]
    }
   ],
   "source": [
    "r = Report(db_host='127.0.0.1', db_port=27017, db_name='Machine')\n",
    "db = r.connect_mongodb()\n",
    "a = r.run()"
   ]
  },
  {
   "cell_type": "code",
   "execution_count": null,
   "metadata": {},
   "outputs": [],
   "source": []
  },
  {
   "cell_type": "code",
   "execution_count": null,
   "metadata": {
    "collapsed": true
   },
   "outputs": [],
   "source": []
  }
 ],
 "metadata": {
  "kernelspec": {
   "display_name": "Python 2",
   "language": "python",
   "name": "python2"
  },
  "language_info": {
   "codemirror_mode": {
    "name": "ipython",
    "version": 2
   },
   "file_extension": ".py",
   "mimetype": "text/x-python",
   "name": "python",
   "nbconvert_exporter": "python",
   "pygments_lexer": "ipython2",
   "version": "2.7.14"
  }
 },
 "nbformat": 4,
 "nbformat_minor": 2
}
