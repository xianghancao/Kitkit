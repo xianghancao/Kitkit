{
 "cells": [
  {
   "cell_type": "code",
   "execution_count": 1,
   "metadata": {
    "collapsed": true
   },
   "outputs": [],
   "source": [
    "sys.path.append('/home/dev/')\n",
    "from Machine.data_structure import DataStructure\n",
    "from Machine.assemble_engine import AssembleEngine"
   ]
  },
  {
   "cell_type": "code",
   "execution_count": 2,
   "metadata": {
    "collapsed": true
   },
   "outputs": [],
   "source": [
    "ds = DataStructure()\n",
    "ae = AssembleEngine()"
   ]
  },
  {
   "cell_type": "code",
   "execution_count": 12,
   "metadata": {},
   "outputs": [
    {
     "name": "stderr",
     "output_type": "stream",
     "text": [
      "layer1: 100%|██████████| 1000000/1000000 [17:06<00:00, 973.90it/s]\n"
     ]
    }
   ],
   "source": [
    "\n",
    "num = 1000000\n",
    "ae.gen_layerN(1,num, pprint=False)"
   ]
  },
  {
   "cell_type": "code",
   "execution_count": 13,
   "metadata": {},
   "outputs": [
    {
     "name": "stderr",
     "output_type": "stream",
     "text": [
      "layer2: 100%|██████████| 2000000/2000000 [45:24<00:00, 734.20it/s]\n",
      "layer3: 100%|██████████| 2000000/2000000 [56:29<00:00, 590.04it/s]\n",
      "layer4: 100%|██████████| 2000000/2000000 [1:09:35<00:00, 479.01it/s]\n",
      "layer5: 100%|██████████| 2000000/2000000 [1:24:02<00:00, 396.61it/s]\n"
     ]
    }
   ],
   "source": [
    "num = 2000000\n",
    "ae.gen_layerN(2,num, pprint=False)\n",
    "ae.gen_layerN(3,num, pprint=False)\n",
    "ae.gen_layerN(4,num, pprint=False)\n",
    "ae.gen_layerN(5,num, pprint=False)"
   ]
  },
  {
   "cell_type": "markdown",
   "metadata": {},
   "source": [
    "## 报告"
   ]
  },
  {
   "cell_type": "code",
   "execution_count": 3,
   "metadata": {},
   "outputs": [],
   "source": [
    "from pymongo import MongoClient\n",
    "import pymongo\n",
    "from tqdm import tqdm\n",
    "class Report():\n",
    "    def __init__(self, db_host, db_port, db_name):\n",
    "        self.config = Munch()\n",
    "        self.config.db_host = db_host\n",
    "        self.config.db_port = db_port\n",
    "        self.config.db_name = db_name\n",
    "        \n",
    "    def connect_mongodb(self):\n",
    "        try:\n",
    "            client = MongoClient(self.config.db_host, self.config.db_port)\n",
    "            db = client[self.config.db_name]\n",
    "        except Exception, e:\n",
    "            print e, 'Connect to mongodb error'\n",
    "        return db\n",
    "    \n",
    "    def run(self):\n",
    "        for i in [3]:\n",
    "            cursor = db['layer%s' %i].find({\"IS_backtest\": \"Done\"})\n",
    "            print 'layer%s IS backtest num: %s' %(i, cursor.count())\n",
    "            IS, OOS1, OOS2 = {}, {}, {}\n",
    "            for j in tqdm(cursor, desc='%s' %cursor.count()):\n",
    "                if 'IS_alpha_sharpe' in j:\n",
    "                    IS.update({j['expr']:j['IS_alpha_sharpe']})\n",
    "                if 'OOS1_alpha_sharpe' in j:\n",
    "                    OOS1.update({j['expr']:j['OOS1_alpha_sharpe']})          \n",
    "                if 'OOS2_alpha_sharpe' in j:\n",
    "                    OOS2.update({j['expr']:j['OOS2_alpha_sharpe']})\n",
    "            print len(np.unique(IS.keys()))\n",
    "        for j in ['IS', 'OOS1', 'OOS2']:\n",
    "            for k in [0.5, 1., 1.5, 2]:\n",
    "                if j == 'IS':\n",
    "                    print '%s>%s %s' %(j, k, np.nansum(np.array(getattr(IS, 'values')())>k))  \n",
    "                if j == 'OOS1':\n",
    "                    print '%s>%s %s' %(j, k, np.nansum(np.array(getattr(OOS1, 'values')())>k))\n",
    "                if j == 'OOS2':\n",
    "                    print '%s>%s %s' %(j, k, np.nansum(np.array(getattr(OOS2, 'values')())>k))\n",
    "        return IS, OOS1, OOS2\n",
    "#         for i in [1,2,3,4,5]:\n",
    "#             print db['layer%s' %i].find({\"IS_backtest\": \"Done\", \"OOS1_backtest\": \"Done\", \"OOS2_backtest\": \"Undo\",\\\n",
    "#                                                  'IS_alpha_sharpe':{'$gt':0.5}, 'OOS1_alpha_sharpe':{'$gt':0.5}})\\\n",
    "#                                                 .sort(\"OOS1_alpha_sharpe\", pymongo.DESCENDING).count()"
   ]
  },
  {
   "cell_type": "code",
   "execution_count": null,
   "metadata": {},
   "outputs": [
    {
     "name": "stdout",
     "output_type": "stream",
     "text": [
      "layer3 IS backtest num: 11000000\n"
     ]
    },
    {
     "name": "stderr",
     "output_type": "stream",
     "text": [
      "11000000: 4752630it [03:14, 24409.99it/s]"
     ]
    }
   ],
   "source": [
    "r = Report(db_host='127.0.0.1', db_port=27017, db_name='Machine')\n",
    "db = r.connect_mongodb()\n",
    "a = r.run()"
   ]
  },
  {
   "cell_type": "code",
   "execution_count": null,
   "metadata": {},
   "outputs": [],
   "source": []
  },
  {
   "cell_type": "code",
   "execution_count": null,
   "metadata": {},
   "outputs": [],
   "source": []
  },
  {
   "cell_type": "code",
   "execution_count": 4,
   "metadata": {},
   "outputs": [
    {
     "data": {
      "text/plain": [
       "array([[ nan,  nan,  nan],\n",
       "       [  0.,   1.,   2.],\n",
       "       [  3.,   4.,   5.],\n",
       "       [  6.,   7.,   8.],\n",
       "       [  9.,  10.,  11.],\n",
       "       [ 12.,  13.,  nan],\n",
       "       [ 15.,  16.,  14.],\n",
       "       [ 18.,  19.,  20.],\n",
       "       [ 21.,  22.,  23.],\n",
       "       [ 24.,  25.,  26.],\n",
       "       [ nan,  28.,  29.],\n",
       "       [ nan,  31.,  32.],\n",
       "       [ nan,  34.,  35.],\n",
       "       [ nan,  37.,  38.],\n",
       "       [ nan,  40.,  41.],\n",
       "       [ 27.,  nan,  44.],\n",
       "       [ 45.,  nan,  47.],\n",
       "       [ 48.,  nan,  50.],\n",
       "       [ 51.,  nan,  53.],\n",
       "       [ 54.,  nan,  56.],\n",
       "       [ 57.,  nan,  59.],\n",
       "       [ 60.,  43.,  62.],\n",
       "       [ 63.,  64.,  65.],\n",
       "       [ 66.,  67.,  68.],\n",
       "       [ 69.,  70.,  71.],\n",
       "       [ 72.,  73.,  74.],\n",
       "       [ 75.,  76.,  77.],\n",
       "       [ 78.,  79.,  80.],\n",
       "       [ 81.,  82.,  83.],\n",
       "       [ 84.,  85.,  86.],\n",
       "       [ 87.,  88.,  89.],\n",
       "       [ 90.,  91.,  92.],\n",
       "       [ 93.,  94.,  95.]])"
      ]
     },
     "execution_count": 4,
     "metadata": {},
     "output_type": "execute_result"
    }
   ],
   "source": [
    "\n",
    "delay(close, 1)"
   ]
  },
  {
   "cell_type": "code",
   "execution_count": 7,
   "metadata": {
    "collapsed": true
   },
   "outputs": [],
   "source": [
    "close = np.load('/mnt/ssd/eod/1day/ClosePrice.npy')\n",
    "\n"
   ]
  },
  {
   "cell_type": "code",
   "execution_count": 7,
   "metadata": {},
   "outputs": [
    {
     "name": "stdout",
     "output_type": "stream",
     "text": [
      "1000 loops, best of 3: 820 µs per loop\n"
     ]
    }
   ],
   "source": [
    "%%timeit\n",
    "delay(close.T, 5)"
   ]
  },
  {
   "cell_type": "code",
   "execution_count": null,
   "metadata": {
    "collapsed": true
   },
   "outputs": [],
   "source": []
  }
 ],
 "metadata": {
  "kernelspec": {
   "display_name": "Python 2",
   "language": "python",
   "name": "python2"
  }
 },
 "nbformat": 4,
 "nbformat_minor": 2
}
