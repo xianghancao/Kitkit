{
 "cells": [
  {
   "cell_type": "code",
   "execution_count": 60,
   "metadata": {},
   "outputs": [],
   "source": [
    "from pymongo import MongoClient\n",
    "import pymongo\n",
    "from tqdm import tqdm\n",
    "class Report():\n",
    "    def __init__(self, db_host, db_port, db_name):\n",
    "        self.config = Munch()\n",
    "        self.config.db_host = db_host\n",
    "        self.config.db_port = db_port\n",
    "        self.config.db_name = db_name\n",
    "        \n",
    "    def connect_mongodb(self):\n",
    "        try:\n",
    "            client = MongoClient(self.config.db_host, self.config.db_port)\n",
    "            db = client[self.config.db_name]\n",
    "        except Exception, e:\n",
    "            print e, 'Connect to mongodb error'\n",
    "        return db\n",
    "    \n",
    "    def run(self):\n",
    "        for i in [1]:\n",
    "            cursor = db['layer%s' %i].find({\"IS_backtest\": \"Done\"})\n",
    "            print 'layer%s IS backtest num: %s' %(i, cursor.count())\n",
    "            df = pd.DataFrame()\n",
    "            tmp = []\n",
    "            for j in tqdm(cursor, desc='%s' %cursor.count()):\n",
    "                tmp.append(j)\n",
    "        return tmp\n"
   ]
  },
  {
   "cell_type": "code",
   "execution_count": 54,
   "metadata": {
    "scrolled": true
   },
   "outputs": [
    {
     "name": "stdout",
     "output_type": "stream",
     "text": [
      "layer1 IS backtest num: 2000000\n"
     ]
    },
    {
     "name": "stderr",
     "output_type": "stream",
     "text": [
      "\n",
      "2000000: 0it [00:00, ?it/s]\u001b[A\n",
      "2000000: 102it [00:00, 168.69it/s]\u001b[A\n",
      "2000000: 29729it [00:01, 19924.26it/s]\u001b[A\n",
      "2000000: 59266it [00:01, 31665.06it/s]\u001b[A\n",
      "2000000: 88850it [00:02, 31327.75it/s]\u001b[A\n",
      "2000000: 118418it [00:03, 34398.29it/s]\u001b[A\n",
      "2000000: 147998it [00:04, 32989.69it/s]\u001b[A\n",
      "2000000: 177565it [00:04, 36620.26it/s]\u001b[A\n",
      "2000000: 207070it [00:05, 39406.18it/s]\u001b[A\n",
      "2000000: 236620it [00:06, 36766.79it/s]\u001b[A\n",
      "2000000: 266153it [00:06, 39125.07it/s]\u001b[A\n",
      "2000000: 295695it [00:07, 41298.97it/s]\u001b[A\n",
      "2000000: 325245it [00:07, 43024.23it/s]\u001b[A\n",
      "2000000: 354794it [00:09, 39409.70it/s]\u001b[A\n",
      "2000000: 384337it [00:09, 41112.75it/s]\u001b[A\n",
      "2000000: 413860it [00:09, 42532.96it/s]\u001b[A\n",
      "2000000: 443391it [00:10, 43948.37it/s]\u001b[A\n",
      "2000000: 472931it [00:11, 40046.98it/s]\u001b[A\n",
      "2000000: 502431it [00:12, 41327.50it/s]\u001b[A\n",
      "2000000: 531955it [00:12, 42384.84it/s]\u001b[A\n",
      "2000000: 561515it [00:12, 43533.57it/s]\u001b[A\n",
      "2000000: 591012it [00:13, 44363.01it/s]\u001b[A\n",
      "2000000: 620565it [00:13, 45376.19it/s]\u001b[A\n",
      "2000000: 650096it [00:15, 41384.03it/s]\u001b[A\n",
      "2000000: 679617it [00:16, 42223.04it/s]\u001b[A\n",
      "2000000: 709157it [00:16, 42999.44it/s]\u001b[A\n",
      "2000000: 738700it [00:16, 43899.86it/s]\u001b[A\n",
      "2000000: 768313it [00:17, 44529.86it/s]\u001b[A\n",
      "2000000: 797829it [00:17, 45302.79it/s]\u001b[A\n",
      "2000000: 827360it [00:18, 45935.97it/s]\u001b[A\n",
      "2000000: 856888it [00:20, 41963.33it/s]\u001b[A\n",
      "2000000: 886463it [00:20, 42690.37it/s]\u001b[A\n",
      "2000000: 916038it [00:21, 43359.21it/s]\u001b[A\n",
      "2000000: 945620it [00:21, 44049.21it/s]\u001b[A\n",
      "2000000: 975133it [00:22, 44220.86it/s]\u001b[A\n",
      "2000000: 1004658it [00:22, 44871.85it/s]\u001b[A\n",
      "2000000: 1034221it [00:22, 45435.44it/s]\u001b[A\n",
      "2000000: 1063761it [00:23, 46052.62it/s]\u001b[A\n",
      "2000000: 1093296it [00:25, 42196.27it/s]\u001b[A\n",
      "2000000: 1122905it [00:26, 42779.51it/s]\u001b[A\n",
      "2000000: 1152461it [00:26, 43308.64it/s]\u001b[A\n",
      "2000000: 1182025it [00:26, 43877.54it/s]\u001b[A\n",
      "2000000: 1211609it [00:27, 44019.06it/s]\u001b[A\n",
      "2000000: 1241175it [00:27, 44534.36it/s]\u001b[A\n",
      "2000000: 1270699it [00:28, 44675.76it/s]\u001b[A\n",
      "2000000: 1300220it [00:28, 45074.38it/s]\u001b[A\n",
      "2000000: 1329749it [00:29, 45541.02it/s]\u001b[A\n",
      "2000000: 1359296it [00:29, 45915.22it/s]\u001b[A\n",
      "2000000: 1388845it [00:29, 46327.97it/s]\u001b[A\n",
      "2000000: 1418338it [00:33, 42485.04it/s]\u001b[A\n",
      "2000000: 1447917it [00:33, 42931.10it/s]\u001b[A\n",
      "2000000: 1477474it [00:34, 43087.95it/s]\u001b[A\n",
      "2000000: 1506994it [00:34, 43513.37it/s]\u001b[A\n",
      "2000000: 1536507it [00:35, 43873.85it/s]\u001b[A\n",
      "2000000: 1566065it [00:35, 44292.97it/s]\u001b[A\n",
      "2000000: 1595566it [00:35, 44618.12it/s]\u001b[A\n",
      "2000000: 1625157it [00:36, 44948.46it/s]\u001b[A\n",
      "2000000: 1654725it [00:36, 45305.04it/s]\u001b[A\n",
      "2000000: 1684325it [00:36, 45601.60it/s]\u001b[A\n",
      "2000000: 1713895it [00:37, 45898.54it/s]\u001b[A\n",
      "2000000: 1743455it [00:37, 45918.75it/s]\u001b[A\n",
      "2000000: 1773022it [00:38, 46292.04it/s]\u001b[A\n",
      "2000000: 1802584it [00:38, 46607.36it/s]\u001b[A\n",
      "2000000: 1832145it [00:44, 41613.45it/s]\u001b[A\n",
      "2000000: 1861704it [00:44, 41992.16it/s]\u001b[A\n",
      "2000000: 1891252it [00:44, 42323.34it/s]\u001b[A\n",
      "2000000: 1920853it [00:45, 42660.00it/s]\u001b[A\n",
      "2000000: 1950362it [00:45, 43003.74it/s]\u001b[A\n",
      "2000000: 1979846it [00:45, 43427.51it/s]\u001b[A\n",
      "2000000: 2000000it [00:45, 43834.17it/s]\u001b[A"
     ]
    }
   ],
   "source": [
    "r = Report(db_host='127.0.0.1', db_port=27017, db_name='Machine')\n",
    "db = r.connect_mongodb()\n",
    "a = r.run()"
   ]
  },
  {
   "cell_type": "code",
   "execution_count": 77,
   "metadata": {},
   "outputs": [
    {
     "name": "stdout",
     "output_type": "stream",
     "text": [
      "IS, OOS1, OOS2, all alpha sharp>=0.5: 103\n",
      "IS, OOS1, OOS2, all alpha sharp>=0.8: 18\n",
      "IS, OOS1, OOS2, all alpha sharp>=1: 3\n"
     ]
    }
   ],
   "source": [
    "df = pd.DataFrame(a, index=[str(i['_id']) for i in a])\n",
    "df1 = df[['IS_alpha_sharpe','OOS1_alpha_sharpe','OOS2_alpha_sharpe']]\n",
    "df2 = df1.drop_duplicates()\n",
    "for val in [0.5, 0.8, 1]:\n",
    "    print 'IS, OOS1, OOS2, all alpha sharp>=%s: %s' %(val, np.sum((df2.IS_alpha_sharpe>val).values * (df2.OOS1_alpha_sharpe>val).values * (df2.OOS2_alpha_sharpe>val).values))"
   ]
  },
  {
   "cell_type": "code",
   "execution_count": 76,
   "metadata": {},
   "outputs": [
    {
     "data": {
      "text/plain": [
       "103"
      ]
     },
     "execution_count": 76,
     "metadata": {},
     "output_type": "execute_result"
    }
   ],
   "source": [
    "np.sum((df2.IS_alpha_sharpe>0.5).values * (df2.OOS1_alpha_sharpe>0.5).values * (df2.OOS2_alpha_sharpe>0.5).values)"
   ]
  },
  {
   "cell_type": "code",
   "execution_count": null,
   "metadata": {
    "collapsed": true
   },
   "outputs": [],
   "source": []
  }
 ],
 "metadata": {
  "kernelspec": {
   "display_name": "Python 3",
   "language": "python",
   "name": "python3"
  },
  "language_info": {
   "codemirror_mode": {
    "name": "ipython",
    "version": 3
   },
   "file_extension": ".py",
   "mimetype": "text/x-python",
   "name": "python",
   "nbconvert_exporter": "python",
   "pygments_lexer": "ipython3",
   "version": "3.7.4"
  }
 },
 "nbformat": 4,
 "nbformat_minor": 2
}
