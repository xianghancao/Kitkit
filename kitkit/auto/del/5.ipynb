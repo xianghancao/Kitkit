{
 "cells": [
  {
   "cell_type": "code",
   "execution_count": 1,
   "metadata": {
    "collapsed": true
   },
   "outputs": [],
   "source": [
    "from pymongo import MongoClient\n",
    "import pymongo\n",
    "from tqdm import tqdm\n",
    "class Report():\n",
    "    def __init__(self, db_host, db_port, db_name):\n",
    "        self.config = Munch()\n",
    "        self.config.db_host = db_host\n",
    "        self.config.db_port = db_port\n",
    "        self.config.db_name = db_name\n",
    "        \n",
    "    def connect_mongodb(self):\n",
    "        try:\n",
    "            client = MongoClient(self.config.db_host, self.config.db_port)\n",
    "            db = client[self.config.db_name]\n",
    "        except Exception, e:\n",
    "            print e, 'Connect to mongodb error'\n",
    "        return db\n",
    "    \n",
    "    def run(self):\n",
    "        for i in [5]:\n",
    "            cursor = db['layer%s' %i].find()\n",
    "            print 'layer%s IS backtest num: %s' %(i, cursor.count())\n",
    "            df = pd.DataFrame()\n",
    "            tmp = []\n",
    "            for j in tqdm(cursor, desc='%s' %cursor.count()):\n",
    "                tmp.append(j)\n",
    "        return tmp\n"
   ]
  },
  {
   "cell_type": "code",
   "execution_count": 2,
   "metadata": {},
   "outputs": [
    {
     "name": "stderr",
     "output_type": "stream",
     "text": [
      "\r",
      "11000000: 0it [00:00, ?it/s]"
     ]
    },
    {
     "name": "stdout",
     "output_type": "stream",
     "text": [
      "layer5 IS backtest num: 11000000\n"
     ]
    },
    {
     "name": "stderr",
     "output_type": "stream",
     "text": [
      "11000000: 11000000it [04:17, 42642.75it/s]\n"
     ]
    }
   ],
   "source": [
    "r = Report(db_host='127.0.0.1', db_port=27017, db_name='Machine')\n",
    "db = r.connect_mongodb()\n",
    "a = r.run()"
   ]
  },
  {
   "cell_type": "code",
   "execution_count": 3,
   "metadata": {},
   "outputs": [
    {
     "name": "stdout",
     "output_type": "stream",
     "text": [
      "IS, OOS1, OOS2, all alpha sharp>=0.5: 8445\n",
      "IS, OOS1, OOS2, all alpha sharp>=0.8: 4254\n",
      "IS, OOS1, OOS2, all alpha sharp>=1: 2459\n"
     ]
    }
   ],
   "source": [
    "df = pd.DataFrame(a, index=[str(i['_id']) for i in a])\n",
    "df1 = df[['IS_alpha_sharpe','OOS1_alpha_sharpe','OOS2_alpha_sharpe']]\n",
    "df2 = df1.drop_duplicates()\n",
    "for val in [0.5, 0.8, 1]:\n",
    "    print 'IS, OOS1, OOS2, all alpha sharp>=%s: %s' %(val, np.sum((df2.IS_alpha_sharpe>val).values * (df2.OOS1_alpha_sharpe>val).values * (df2.OOS2_alpha_sharpe>val).values))"
   ]
  },
  {
   "cell_type": "code",
   "execution_count": null,
   "metadata": {
    "collapsed": true
   },
   "outputs": [],
   "source": []
  }
 ],
 "metadata": {
  "kernelspec": {
   "display_name": "Python 2",
   "language": "python",
   "name": "python2"
  },
  "language_info": {
   "codemirror_mode": {
    "name": "ipython",
    "version": 2
   },
   "file_extension": ".py",
   "mimetype": "text/x-python",
   "name": "python",
   "nbconvert_exporter": "python",
   "pygments_lexer": "ipython2",
   "version": "2.7.14"
  }
 },
 "nbformat": 4,
 "nbformat_minor": 2
}
